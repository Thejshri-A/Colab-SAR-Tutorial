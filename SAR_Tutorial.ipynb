{
  "nbformat": 4,
  "nbformat_minor": 0,
  "metadata": {
    "colab": {
      "provenance": [],
      "authorship_tag": "ABX9TyNgeIiH7ouk9WKrCJmLtDrr",
      "include_colab_link": true
    },
    "kernelspec": {
      "name": "python3",
      "display_name": "Python 3"
    },
    "language_info": {
      "name": "python"
    }
  },
  "cells": [
    {
      "cell_type": "markdown",
      "metadata": {
        "id": "view-in-github",
        "colab_type": "text"
      },
      "source": [
        "<a href=\"https://colab.research.google.com/github/Thejshri-A/Colab-SAR-Tutorial/blob/Part-4/SAR_Tutorial.ipynb\" target=\"_parent\"><img src=\"https://colab.research.google.com/assets/colab-badge.svg\" alt=\"Open In Colab\"/></a>"
      ]
    },
    {
      "cell_type": "code",
      "source": [
        "!apt-get install -y libspatialindex-dev\n",
        "!apt-get install -y python3-gdal\n",
        "!pip install gdal\n",
        "!pip install rasterio\n",
        "!pip install geopandas\n",
        "!pip install matplotlib\n"
      ],
      "metadata": {
        "colab": {
          "base_uri": "https://localhost:8080/"
        },
        "id": "uAruJ8QiIMlx",
        "outputId": "7633e634-5eb2-4b75-a367-158904e1ccea"
      },
      "execution_count": null,
      "outputs": [
        {
          "output_type": "stream",
          "name": "stdout",
          "text": [
            "Reading package lists... Done\n",
            "Building dependency tree... Done\n",
            "Reading state information... Done\n",
            "The following additional packages will be installed:\n",
            "  libspatialindex-c6 libspatialindex6\n",
            "The following NEW packages will be installed:\n",
            "  libspatialindex-c6 libspatialindex-dev libspatialindex6\n",
            "0 upgraded, 3 newly installed, 0 to remove and 45 not upgraded.\n",
            "Need to get 319 kB of archives.\n",
            "After this operation, 1,416 kB of additional disk space will be used.\n",
            "Get:1 http://archive.ubuntu.com/ubuntu jammy/universe amd64 libspatialindex6 amd64 1.9.3-2 [247 kB]\n",
            "Get:2 http://archive.ubuntu.com/ubuntu jammy/universe amd64 libspatialindex-c6 amd64 1.9.3-2 [55.8 kB]\n",
            "Get:3 http://archive.ubuntu.com/ubuntu jammy/universe amd64 libspatialindex-dev amd64 1.9.3-2 [16.0 kB]\n",
            "Fetched 319 kB in 1s (266 kB/s)\n",
            "Selecting previously unselected package libspatialindex6:amd64.\n",
            "(Reading database ... 121918 files and directories currently installed.)\n",
            "Preparing to unpack .../libspatialindex6_1.9.3-2_amd64.deb ...\n",
            "Unpacking libspatialindex6:amd64 (1.9.3-2) ...\n",
            "Selecting previously unselected package libspatialindex-c6:amd64.\n",
            "Preparing to unpack .../libspatialindex-c6_1.9.3-2_amd64.deb ...\n",
            "Unpacking libspatialindex-c6:amd64 (1.9.3-2) ...\n",
            "Selecting previously unselected package libspatialindex-dev:amd64.\n",
            "Preparing to unpack .../libspatialindex-dev_1.9.3-2_amd64.deb ...\n",
            "Unpacking libspatialindex-dev:amd64 (1.9.3-2) ...\n",
            "Setting up libspatialindex6:amd64 (1.9.3-2) ...\n",
            "Setting up libspatialindex-c6:amd64 (1.9.3-2) ...\n",
            "Setting up libspatialindex-dev:amd64 (1.9.3-2) ...\n",
            "Processing triggers for libc-bin (2.35-0ubuntu3.4) ...\n",
            "/sbin/ldconfig.real: /usr/local/lib/libtbb.so.12 is not a symbolic link\n",
            "\n",
            "/sbin/ldconfig.real: /usr/local/lib/libtbbmalloc.so.2 is not a symbolic link\n",
            "\n",
            "/sbin/ldconfig.real: /usr/local/lib/libtbbbind.so.3 is not a symbolic link\n",
            "\n",
            "/sbin/ldconfig.real: /usr/local/lib/libtbbmalloc_proxy.so.2 is not a symbolic link\n",
            "\n",
            "/sbin/ldconfig.real: /usr/local/lib/libtbbbind_2_5.so.3 is not a symbolic link\n",
            "\n",
            "/sbin/ldconfig.real: /usr/local/lib/libtbbbind_2_0.so.3 is not a symbolic link\n",
            "\n",
            "Reading package lists... Done\n",
            "Building dependency tree... Done\n",
            "Reading state information... Done\n",
            "The following additional packages will be installed:\n",
            "  python3-numpy\n",
            "Suggested packages:\n",
            "  gdal-bin python-numpy-doc python3-pytest\n",
            "The following NEW packages will be installed:\n",
            "  python3-gdal python3-numpy\n",
            "0 upgraded, 2 newly installed, 0 to remove and 45 not upgraded.\n",
            "Need to get 4,494 kB of archives.\n",
            "After this operation, 23.9 MB of additional disk space will be used.\n",
            "Get:1 http://archive.ubuntu.com/ubuntu jammy-updates/main amd64 python3-numpy amd64 1:1.21.5-1ubuntu22.04.1 [3,467 kB]\n",
            "Get:2 https://ppa.launchpadcontent.net/ubuntugis/ppa/ubuntu jammy/main amd64 python3-gdal amd64 3.6.4+dfsg-1~jammy0 [1,027 kB]\n",
            "Fetched 4,494 kB in 3s (1,439 kB/s)\n",
            "Selecting previously unselected package python3-numpy.\n",
            "(Reading database ... 121969 files and directories currently installed.)\n",
            "Preparing to unpack .../python3-numpy_1%3a1.21.5-1ubuntu22.04.1_amd64.deb ...\n",
            "Unpacking python3-numpy (1:1.21.5-1ubuntu22.04.1) ...\n",
            "Selecting previously unselected package python3-gdal.\n",
            "Preparing to unpack .../python3-gdal_3.6.4+dfsg-1~jammy0_amd64.deb ...\n",
            "Unpacking python3-gdal (3.6.4+dfsg-1~jammy0) ...\n",
            "Setting up python3-numpy (1:1.21.5-1ubuntu22.04.1) ...\n",
            "Setting up python3-gdal (3.6.4+dfsg-1~jammy0) ...\n",
            "Requirement already satisfied: gdal in /usr/local/lib/python3.10/dist-packages (3.6.4)\n",
            "Collecting rasterio\n",
            "  Downloading rasterio-1.3.10-cp310-cp310-manylinux2014_x86_64.whl (21.5 MB)\n",
            "\u001b[2K     \u001b[90m━━━━━━━━━━━━━━━━━━━━━━━━━━━━━━━━━━━━━━━━\u001b[0m \u001b[32m21.5/21.5 MB\u001b[0m \u001b[31m42.5 MB/s\u001b[0m eta \u001b[36m0:00:00\u001b[0m\n",
            "\u001b[?25hCollecting affine (from rasterio)\n",
            "  Downloading affine-2.4.0-py3-none-any.whl (15 kB)\n",
            "Requirement already satisfied: attrs in /usr/local/lib/python3.10/dist-packages (from rasterio) (23.2.0)\n",
            "Requirement already satisfied: certifi in /usr/local/lib/python3.10/dist-packages (from rasterio) (2024.2.2)\n",
            "Requirement already satisfied: click>=4.0 in /usr/local/lib/python3.10/dist-packages (from rasterio) (8.1.7)\n",
            "Requirement already satisfied: cligj>=0.5 in /usr/local/lib/python3.10/dist-packages (from rasterio) (0.7.2)\n",
            "Requirement already satisfied: numpy in /usr/local/lib/python3.10/dist-packages (from rasterio) (1.25.2)\n",
            "Collecting snuggs>=1.4.1 (from rasterio)\n",
            "  Downloading snuggs-1.4.7-py3-none-any.whl (5.4 kB)\n",
            "Requirement already satisfied: click-plugins in /usr/local/lib/python3.10/dist-packages (from rasterio) (1.1.1)\n",
            "Requirement already satisfied: setuptools in /usr/local/lib/python3.10/dist-packages (from rasterio) (67.7.2)\n",
            "Requirement already satisfied: pyparsing>=2.1.6 in /usr/local/lib/python3.10/dist-packages (from snuggs>=1.4.1->rasterio) (3.1.2)\n",
            "Installing collected packages: snuggs, affine, rasterio\n",
            "Successfully installed affine-2.4.0 rasterio-1.3.10 snuggs-1.4.7\n",
            "Requirement already satisfied: geopandas in /usr/local/lib/python3.10/dist-packages (0.13.2)\n",
            "Requirement already satisfied: fiona>=1.8.19 in /usr/local/lib/python3.10/dist-packages (from geopandas) (1.9.6)\n",
            "Requirement already satisfied: packaging in /usr/local/lib/python3.10/dist-packages (from geopandas) (24.0)\n",
            "Requirement already satisfied: pandas>=1.1.0 in /usr/local/lib/python3.10/dist-packages (from geopandas) (2.0.3)\n",
            "Requirement already satisfied: pyproj>=3.0.1 in /usr/local/lib/python3.10/dist-packages (from geopandas) (3.6.1)\n",
            "Requirement already satisfied: shapely>=1.7.1 in /usr/local/lib/python3.10/dist-packages (from geopandas) (2.0.4)\n",
            "Requirement already satisfied: attrs>=19.2.0 in /usr/local/lib/python3.10/dist-packages (from fiona>=1.8.19->geopandas) (23.2.0)\n",
            "Requirement already satisfied: certifi in /usr/local/lib/python3.10/dist-packages (from fiona>=1.8.19->geopandas) (2024.2.2)\n",
            "Requirement already satisfied: click~=8.0 in /usr/local/lib/python3.10/dist-packages (from fiona>=1.8.19->geopandas) (8.1.7)\n",
            "Requirement already satisfied: click-plugins>=1.0 in /usr/local/lib/python3.10/dist-packages (from fiona>=1.8.19->geopandas) (1.1.1)\n",
            "Requirement already satisfied: cligj>=0.5 in /usr/local/lib/python3.10/dist-packages (from fiona>=1.8.19->geopandas) (0.7.2)\n",
            "Requirement already satisfied: six in /usr/local/lib/python3.10/dist-packages (from fiona>=1.8.19->geopandas) (1.16.0)\n",
            "Requirement already satisfied: python-dateutil>=2.8.2 in /usr/local/lib/python3.10/dist-packages (from pandas>=1.1.0->geopandas) (2.8.2)\n",
            "Requirement already satisfied: pytz>=2020.1 in /usr/local/lib/python3.10/dist-packages (from pandas>=1.1.0->geopandas) (2023.4)\n",
            "Requirement already satisfied: tzdata>=2022.1 in /usr/local/lib/python3.10/dist-packages (from pandas>=1.1.0->geopandas) (2024.1)\n",
            "Requirement already satisfied: numpy>=1.21.0 in /usr/local/lib/python3.10/dist-packages (from pandas>=1.1.0->geopandas) (1.25.2)\n",
            "Requirement already satisfied: matplotlib in /usr/local/lib/python3.10/dist-packages (3.7.1)\n",
            "Requirement already satisfied: contourpy>=1.0.1 in /usr/local/lib/python3.10/dist-packages (from matplotlib) (1.2.1)\n",
            "Requirement already satisfied: cycler>=0.10 in /usr/local/lib/python3.10/dist-packages (from matplotlib) (0.12.1)\n",
            "Requirement already satisfied: fonttools>=4.22.0 in /usr/local/lib/python3.10/dist-packages (from matplotlib) (4.51.0)\n",
            "Requirement already satisfied: kiwisolver>=1.0.1 in /usr/local/lib/python3.10/dist-packages (from matplotlib) (1.4.5)\n",
            "Requirement already satisfied: numpy>=1.20 in /usr/local/lib/python3.10/dist-packages (from matplotlib) (1.25.2)\n",
            "Requirement already satisfied: packaging>=20.0 in /usr/local/lib/python3.10/dist-packages (from matplotlib) (24.0)\n",
            "Requirement already satisfied: pillow>=6.2.0 in /usr/local/lib/python3.10/dist-packages (from matplotlib) (9.4.0)\n",
            "Requirement already satisfied: pyparsing>=2.3.1 in /usr/local/lib/python3.10/dist-packages (from matplotlib) (3.1.2)\n",
            "Requirement already satisfied: python-dateutil>=2.7 in /usr/local/lib/python3.10/dist-packages (from matplotlib) (2.8.2)\n",
            "Requirement already satisfied: six>=1.5 in /usr/local/lib/python3.10/dist-packages (from python-dateutil>=2.7->matplotlib) (1.16.0)\n"
          ]
        }
      ]
    },
    {
      "cell_type": "code",
      "source": [
        "import rasterio\n",
        "import geopandas as gpd\n",
        "import matplotlib.pyplot as plt\n",
        "import numpy as np\n",
        "from osgeo import gdal, ogr, osr\n",
        "\n",
        "print(\"GDAL version: \", gdal.__version__)\n"
      ],
      "metadata": {
        "colab": {
          "base_uri": "https://localhost:8080/"
        },
        "id": "G5KYlQ0BZx8_",
        "outputId": "ea535cc0-d320-456e-d799-b0d4f4069e14"
      },
      "execution_count": null,
      "outputs": [
        {
          "output_type": "stream",
          "name": "stdout",
          "text": [
            "GDAL version:  3.6.4\n"
          ]
        }
      ]
    },
    {
      "cell_type": "code",
      "execution_count": null,
      "metadata": {
        "id": "ZlaszivuqSOU"
      },
      "outputs": [],
      "source": [
        "# Importing relevant python packages\n",
        "import pandas as pd\n",
        "import numpy as np\n",
        "# import gdal\n",
        "import time,os\n",
        "# For plotting\n",
        "%matplotlib inline\n",
        "import matplotlib.pylab as plt\n",
        "import matplotlib.patches as patches\n",
        "font = {'family' : 'monospace',\n",
        " 'weight' : 'bold',\n",
        " 'size' : 18}\n",
        "plt.rc('font',**font)"
      ]
    },
    {
      "cell_type": "code",
      "source": [
        "datefile=\"S32631X402380Y1491460sS1_A_vv_0001_A_mtfil.dates\"\n",
        "imagefile=\"S32631X402380Y1491460sS1_A_vv_0001_A_mtfil.vrt\""
      ],
      "metadata": {
        "id": "GFvbeFzZaUHl"
      },
      "execution_count": null,
      "outputs": []
    },
    {
      "cell_type": "code",
      "source": [
        "dates=open(datefile).readlines()\n",
        "tindex=pd.DatetimeIndex(dates)\n",
        "j=1\n",
        "print('Bands and dates for',imagefile)\n",
        "for i in tindex:\n",
        " print(\"{:4d} {}\".format(j, i.date()),end=' ')\n",
        " j+=1\n",
        " if j%5 ==1: print()"
      ],
      "metadata": {
        "colab": {
          "base_uri": "https://localhost:8080/"
        },
        "id": "oXLXtekPbZ-g",
        "outputId": "44ec439c-1761-4bd2-c126-230580ff0854"
      },
      "execution_count": null,
      "outputs": [
        {
          "output_type": "stream",
          "name": "stdout",
          "text": [
            "Bands and dates for S32631X402380Y1491460sS1_A_vv_0001_A_mtfil.vrt\n",
            "   1 2015-04-03    2 2015-11-17    3 2015-11-29    4 2015-12-11    5 2015-12-23 \n",
            "   6 2016-01-04    7 2016-01-28    8 2016-02-09    9 2016-03-04   10 2016-03-16 \n",
            "  11 2016-03-28   12 2016-04-09   13 2016-04-21   14 2016-05-03   15 2016-05-15 \n",
            "  16 2016-05-27   17 2016-06-08   18 2016-07-02   19 2016-07-14   20 2016-07-26 \n",
            "  21 2016-08-07   22 2016-08-19   23 2016-08-31   24 2016-09-12   25 2016-09-24 \n",
            "  26 2016-10-06   27 2016-10-18   28 2016-10-30   29 2016-11-11   30 2016-11-23 \n",
            "  31 2016-12-05   32 2016-12-17   33 2016-12-29   34 2017-01-10   35 2017-01-22 \n",
            "  36 2017-02-03   37 2017-02-15   38 2017-02-27   39 2017-03-11   40 2017-03-23 \n",
            "  41 2017-04-04   42 2017-04-16   43 2017-04-28   44 2017-05-10   45 2017-05-22 \n",
            "  46 2017-06-03   47 2017-06-15   48 2017-06-27   49 2017-07-09   50 2017-07-21 \n",
            "  51 2017-08-02   52 2017-08-14   53 2017-08-26   54 2017-09-07   55 2017-09-19 \n",
            "  56 2017-10-13   57 2017-10-25   58 2017-11-06   59 2017-11-18   60 2017-11-30 \n"
          ]
        }
      ]
    },
    {
      "cell_type": "code",
      "source": [
        "rasterstack=gdal.Open(imagefile).ReadAsArray()"
      ],
      "metadata": {
        "id": "y879YDJZc5BR"
      },
      "execution_count": null,
      "outputs": []
    },
    {
      "cell_type": "code",
      "source": [
        "import pandas as pd\n",
        "from osgeo import gdal\n",
        "\n",
        "# Read dates from a file\n",
        "datefile = 'S32631X402380Y1491460sS1_A_vv_0001_A_mtfil.dates'  # replace with your actual date file path\n",
        "dates = open(datefile).readlines()\n",
        "\n",
        "# Create a DatetimeIndex from the dates\n",
        "tindex = pd.DatetimeIndex(dates)\n",
        "\n",
        "# Initialize band counter\n",
        "j = 1\n",
        "imagefile = 'S32631X402380Y1491460sS1_A_vv_0001_A_mtfil.vrt'  # replace with your actual image file path\n",
        "print('Bands and dates for', imagefile)\n",
        "\n",
        "# Iterate over the dates and print them in a formatted manner\n",
        "for i in tindex:\n",
        "    print(\"{:4d} {}\".format(j, i.date()), end=' ')\n",
        "    j += 1\n",
        "    if j % 5 == 1:\n",
        "        print()\n",
        "\n",
        "# Open the raster stack using GDAL\n",
        "rasterstack = gdal.Open(imagefile).ReadAsArray()\n",
        "\n",
        "# Further processing with rasterstack can be done here\n"
      ],
      "metadata": {
        "colab": {
          "base_uri": "https://localhost:8080/"
        },
        "id": "6a0bwrCeHI_n",
        "outputId": "582fde5d-6695-40c8-f640-23282a42840e"
      },
      "execution_count": null,
      "outputs": [
        {
          "output_type": "stream",
          "name": "stdout",
          "text": [
            "Bands and dates for S32631X402380Y1491460sS1_A_vv_0001_A_mtfil.vrt\n",
            "   1 2015-04-03    2 2015-11-17    3 2015-11-29    4 2015-12-11    5 2015-12-23 \n",
            "   6 2016-01-04    7 2016-01-28    8 2016-02-09    9 2016-03-04   10 2016-03-16 \n",
            "  11 2016-03-28   12 2016-04-09   13 2016-04-21   14 2016-05-03   15 2016-05-15 \n",
            "  16 2016-05-27   17 2016-06-08   18 2016-07-02   19 2016-07-14   20 2016-07-26 \n",
            "  21 2016-08-07   22 2016-08-19   23 2016-08-31   24 2016-09-12   25 2016-09-24 \n",
            "  26 2016-10-06   27 2016-10-18   28 2016-10-30   29 2016-11-11   30 2016-11-23 \n",
            "  31 2016-12-05   32 2016-12-17   33 2016-12-29   34 2017-01-10   35 2017-01-22 \n",
            "  36 2017-02-03   37 2017-02-15   38 2017-02-27   39 2017-03-11   40 2017-03-23 \n",
            "  41 2017-04-04   42 2017-04-16   43 2017-04-28   44 2017-05-10   45 2017-05-22 \n",
            "  46 2017-06-03   47 2017-06-15   48 2017-06-27   49 2017-07-09   50 2017-07-21 \n",
            "  51 2017-08-02   52 2017-08-14   53 2017-08-26   54 2017-09-07   55 2017-09-19 \n",
            "  56 2017-10-13   57 2017-10-25   58 2017-11-06   59 2017-11-18   60 2017-11-30 \n"
          ]
        }
      ]
    },
    {
      "cell_type": "code",
      "source": [
        "import pandas as pd\n",
        "from osgeo import gdal\n",
        "import numpy as np\n",
        "\n",
        "# Define the file paths\n",
        "datefile = '/content/S32631X402380Y1491460sS1_A_vv_0001_A_mtfil.dates'  # replace with your actual date file path\n",
        "imagefile = '/content/S32631X402380Y1491460sS1_A_vv_0001_A_mtfil.vrt'  # replace with your actual image file path\n",
        "\n",
        "# Read dates from a file\n",
        "with open(datefile) as f:\n",
        "    dates = f.readlines()\n",
        "\n",
        "# Create a DatetimeIndex from the dates\n",
        "tindex = pd.DatetimeIndex(dates)\n",
        "\n",
        "# Initialize band counter\n",
        "j = 1\n",
        "print('Bands and dates for', imagefile)\n",
        "\n",
        "# Iterate over the dates and print them in a formatted manner\n",
        "for i in tindex:\n",
        "    print(\"{:4d} {}\".format(j, i.date()), end=' ')\n",
        "    j += 1\n",
        "    if j % 5 == 1:\n",
        "        print()\n",
        "\n",
        "# Open the raster stack using GDAL\n",
        "try:\n",
        "    dataset = gdal.Open(imagefile)\n",
        "    if dataset is None:\n",
        "        raise FileNotFoundError(f\"Failed to open the file {imagefile}\")\n",
        "\n",
        "    rasterstack = dataset.ReadAsArray()\n",
        "    if rasterstack is None:\n",
        "        raise ValueError(f\"Failed to read data from the file {imagefile}\")\n",
        "\n",
        "    # Print the type of rasterstack to confirm it is a numpy ndarray\n",
        "    print(\"Type of rasterstack:\", type(rasterstack))\n",
        "    print(\"Shape of rasterstack:\", rasterstack.shape)\n",
        "\n",
        "except FileNotFoundError as fnf_error:\n",
        "    print(fnf_error)\n",
        "except ValueError as val_error:\n",
        "    print(val_error)\n",
        "except Exception as e:\n",
        "    print(\"An unexpected error occurred:\", e)\n"
      ],
      "metadata": {
        "colab": {
          "base_uri": "https://localhost:8080/"
        },
        "id": "UAo6U2thIPY0",
        "outputId": "511aa517-7e47-4482-a1c2-1edd0e00ab88"
      },
      "execution_count": null,
      "outputs": [
        {
          "output_type": "stream",
          "name": "stdout",
          "text": [
            "Bands and dates for /content/S32631X402380Y1491460sS1_A_vv_0001_A_mtfil.vrt\n",
            "   1 2015-04-03    2 2015-11-17    3 2015-11-29    4 2015-12-11    5 2015-12-23 \n",
            "   6 2016-01-04    7 2016-01-28    8 2016-02-09    9 2016-03-04   10 2016-03-16 \n",
            "  11 2016-03-28   12 2016-04-09   13 2016-04-21   14 2016-05-03   15 2016-05-15 \n",
            "  16 2016-05-27   17 2016-06-08   18 2016-07-02   19 2016-07-14   20 2016-07-26 \n",
            "  21 2016-08-07   22 2016-08-19   23 2016-08-31   24 2016-09-12   25 2016-09-24 \n",
            "  26 2016-10-06   27 2016-10-18   28 2016-10-30   29 2016-11-11   30 2016-11-23 \n",
            "  31 2016-12-05   32 2016-12-17   33 2016-12-29   34 2017-01-10   35 2017-01-22 \n",
            "  36 2017-02-03   37 2017-02-15   38 2017-02-27   39 2017-03-11   40 2017-03-23 \n",
            "  41 2017-04-04   42 2017-04-16   43 2017-04-28   44 2017-05-10   45 2017-05-22 \n",
            "  46 2017-06-03   47 2017-06-15   48 2017-06-27   49 2017-07-09   50 2017-07-21 \n",
            "  51 2017-08-02   52 2017-08-14   53 2017-08-26   54 2017-09-07   55 2017-09-19 \n",
            "  56 2017-10-13   57 2017-10-25   58 2017-11-06   59 2017-11-18   60 2017-11-30 \n",
            "Failed to read data from the file /content/S32631X402380Y1491460sS1_A_vv_0001_A_mtfil.vrt\n"
          ]
        }
      ]
    },
    {
      "cell_type": "code",
      "source": [
        "!gdalinfo S32631X402380Y1491460sS1_A_vv_0001_A_mtfil.vrt"
      ],
      "metadata": {
        "colab": {
          "base_uri": "https://localhost:8080/"
        },
        "id": "hXYfFAPcJIJL",
        "outputId": "f476f470-bb00-4ae4-87ee-ac7239ef602d"
      },
      "execution_count": null,
      "outputs": [
        {
          "output_type": "stream",
          "name": "stdout",
          "text": [
            "/bin/bash: line 1: gdalinfo: command not found\n"
          ]
        }
      ]
    },
    {
      "cell_type": "code",
      "source": [
        "if rasterstack is None:\n",
        "    raise RuntimeError(\"Failed to read raster data\")\n",
        "else:\n",
        "    print(\"Raster data loaded successfully, shape:\", rasterstack.shape)"
      ],
      "metadata": {
        "colab": {
          "base_uri": "https://localhost:8080/",
          "height": 193
        },
        "id": "beOzuA43g94E",
        "outputId": "803a6431-c5fe-40f1-dcc4-9325bb0ce2e3"
      },
      "execution_count": null,
      "outputs": [
        {
          "output_type": "error",
          "ename": "RuntimeError",
          "evalue": "Failed to read raster data",
          "traceback": [
            "\u001b[0;31m---------------------------------------------------------------------------\u001b[0m",
            "\u001b[0;31mRuntimeError\u001b[0m                              Traceback (most recent call last)",
            "\u001b[0;32m<ipython-input-8-fb3109c5fce2>\u001b[0m in \u001b[0;36m<cell line: 1>\u001b[0;34m()\u001b[0m\n\u001b[1;32m      1\u001b[0m \u001b[0;32mif\u001b[0m \u001b[0mrasterstack\u001b[0m \u001b[0;32mis\u001b[0m \u001b[0;32mNone\u001b[0m\u001b[0;34m:\u001b[0m\u001b[0;34m\u001b[0m\u001b[0;34m\u001b[0m\u001b[0m\n\u001b[0;32m----> 2\u001b[0;31m     \u001b[0;32mraise\u001b[0m \u001b[0mRuntimeError\u001b[0m\u001b[0;34m(\u001b[0m\u001b[0;34m\"Failed to read raster data\"\u001b[0m\u001b[0;34m)\u001b[0m\u001b[0;34m\u001b[0m\u001b[0;34m\u001b[0m\u001b[0m\n\u001b[0m\u001b[1;32m      3\u001b[0m \u001b[0;32melse\u001b[0m\u001b[0;34m:\u001b[0m\u001b[0;34m\u001b[0m\u001b[0;34m\u001b[0m\u001b[0m\n\u001b[1;32m      4\u001b[0m     \u001b[0mprint\u001b[0m\u001b[0;34m(\u001b[0m\u001b[0;34m\"Raster data loaded successfully, shape:\"\u001b[0m\u001b[0;34m,\u001b[0m \u001b[0mrasterstack\u001b[0m\u001b[0;34m.\u001b[0m\u001b[0mshape\u001b[0m\u001b[0;34m)\u001b[0m\u001b[0;34m\u001b[0m\u001b[0;34m\u001b[0m\u001b[0m\n",
            "\u001b[0;31mRuntimeError\u001b[0m: Failed to read raster data"
          ]
        }
      ]
    },
    {
      "cell_type": "markdown",
      "source": [
        "Data Preprocesssing"
      ],
      "metadata": {
        "id": "hkI22QHEdB2P"
      }
    },
    {
      "cell_type": "code",
      "source": [
        "# 1. Conversion to Power\n",
        "caldB=-83\n",
        "calPwr = np.power(10.,caldB/10.)\n",
        "rasterstack_pwr1 = np.power(rasterstack,2.)\n",
        "rasterstack_pwr=rasterstack_pwr1*calPwr\n",
        "# 2. Compute Means\n",
        "rs_means_pwr = np.mean(rasterstack_pwr,axis=(1,2))\n",
        "# 3. Convert to dB\n",
        "rs_means_dB = 10.*np.log10(rs_means_pwr)"
      ],
      "metadata": {
        "colab": {
          "base_uri": "https://localhost:8080/",
          "height": 211
        },
        "id": "KKVibMs-dBCN",
        "outputId": "5ce6f660-de55-4c7d-9f39-e5b4fcde79ac"
      },
      "execution_count": null,
      "outputs": [
        {
          "output_type": "error",
          "ename": "TypeError",
          "evalue": "unsupported operand type(s) for ** or pow(): 'NoneType' and 'float'",
          "traceback": [
            "\u001b[0;31m---------------------------------------------------------------------------\u001b[0m",
            "\u001b[0;31mTypeError\u001b[0m                                 Traceback (most recent call last)",
            "\u001b[0;32m<ipython-input-17-7dcdbee5a6fe>\u001b[0m in \u001b[0;36m<cell line: 4>\u001b[0;34m()\u001b[0m\n\u001b[1;32m      2\u001b[0m \u001b[0mcaldB\u001b[0m\u001b[0;34m=\u001b[0m\u001b[0;34m-\u001b[0m\u001b[0;36m83\u001b[0m\u001b[0;34m\u001b[0m\u001b[0;34m\u001b[0m\u001b[0m\n\u001b[1;32m      3\u001b[0m \u001b[0mcalPwr\u001b[0m \u001b[0;34m=\u001b[0m \u001b[0mnp\u001b[0m\u001b[0;34m.\u001b[0m\u001b[0mpower\u001b[0m\u001b[0;34m(\u001b[0m\u001b[0;36m10.\u001b[0m\u001b[0;34m,\u001b[0m\u001b[0mcaldB\u001b[0m\u001b[0;34m/\u001b[0m\u001b[0;36m10.\u001b[0m\u001b[0;34m)\u001b[0m\u001b[0;34m\u001b[0m\u001b[0;34m\u001b[0m\u001b[0m\n\u001b[0;32m----> 4\u001b[0;31m \u001b[0mrasterstack_pwr1\u001b[0m \u001b[0;34m=\u001b[0m \u001b[0mnp\u001b[0m\u001b[0;34m.\u001b[0m\u001b[0mpower\u001b[0m\u001b[0;34m(\u001b[0m\u001b[0mrasterstack\u001b[0m\u001b[0;34m,\u001b[0m\u001b[0;36m2.\u001b[0m\u001b[0;34m)\u001b[0m\u001b[0;34m\u001b[0m\u001b[0;34m\u001b[0m\u001b[0m\n\u001b[0m\u001b[1;32m      5\u001b[0m \u001b[0mrasterstack_pwr\u001b[0m\u001b[0;34m=\u001b[0m\u001b[0mrasterstack_pwr1\u001b[0m\u001b[0;34m*\u001b[0m\u001b[0mcalPwr\u001b[0m\u001b[0;34m\u001b[0m\u001b[0;34m\u001b[0m\u001b[0m\n\u001b[1;32m      6\u001b[0m \u001b[0;31m# 2. Compute Means\u001b[0m\u001b[0;34m\u001b[0m\u001b[0;34m\u001b[0m\u001b[0m\n",
            "\u001b[0;31mTypeError\u001b[0m: unsupported operand type(s) for ** or pow(): 'NoneType' and 'float'"
          ]
        }
      ]
    }
  ]
}